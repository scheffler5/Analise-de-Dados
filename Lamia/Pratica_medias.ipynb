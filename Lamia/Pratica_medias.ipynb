{
 "cells": [
  {
   "cell_type": "code",
   "execution_count": 17,
   "id": "b2d9109e-eefa-4872-8986-942ad5d80d86",
   "metadata": {},
   "outputs": [
    {
     "data": {
      "image/png": "[encoded data removed]",
      "text/plain": [
       "<Figure size 640x480 with 1 Axes>"
      ]
     },
     "metadata": {},
     "output_type": "display_data"
    }
   ],
   "source": [
    "import numpy as np \n",
    "import pandas as pd \n",
    "import matplotlib.pyplot as plt\n",
    "\n",
    "entrada = np.random.normal(270,150,100)\n",
    "plt.hist(entrada, 15)\n",
    "plt.show()"
   ]
  },
  {
   "cell_type": "code",
   "execution_count": 19,
   "id": "7cc91a5a-6b95-4dbe-b758-ad6625f8c1a6",
   "metadata": {},
   "outputs": [
    {
     "data": {
      "text/plain": [
       "281.3951265255695"
      ]
     },
     "execution_count": 19,
     "metadata": {},
     "output_type": "execute_result"
    }
   ],
   "source": [
    "np.mean(entrada)"
   ]
  },
  {
   "cell_type": "code",
   "execution_count": 21,
   "id": "6dd41e7e-ebab-48d9-9f77-d28ea59e34e3",
   "metadata": {},
   "outputs": [
    {
     "data": {
      "text/plain": [
       "270.21478455129125"
      ]
     },
     "execution_count": 21,
     "metadata": {},
     "output_type": "execute_result"
    }
   ],
   "source": [
    "np.median(entrada)"
   ]
  },
  {
   "cell_type": "code",
   "execution_count": 23,
   "id": "dcf378c1-870c-428b-8e90-f5b9a4d80e37",
   "metadata": {},
   "outputs": [
    {
     "data": {
      "text/plain": [
       "281.3951265255695"
      ]
     },
     "execution_count": 23,
     "metadata": {},
     "output_type": "execute_result"
    }
   ],
   "source": [
    "np.mean(entrada)"
   ]
  },
  {
   "cell_type": "code",
   "execution_count": 70,
   "id": "409a8dbb-c64b-48d2-98ca-8735dd852372",
   "metadata": {},
   "outputs": [
    {
     "data": {
      "image/png": "[encoded data removed]",
      "text/plain": [
       "<Figure size 640x480 with 1 Axes>"
      ]
     },
     "metadata": {},
     "output_type": "display_data"
    }
   ],
   "source": [
    "inputs = np.random.randint(0,1000, size=1000) \n",
    "plt.hist(inputs,bins=50)\n",
    "plt.show()"
   ]
  },
  {
   "cell_type": "code",
   "execution_count": 72,
   "id": "0d44d230-1e18-43db-8c72-a0605ba7fc6d",
   "metadata": {},
   "outputs": [
    {
     "data": {
      "text/plain": [
       "489.782"
      ]
     },
     "execution_count": 72,
     "metadata": {},
     "output_type": "execute_result"
    }
   ],
   "source": [
    "np.mean(inputs)"
   ]
  },
  {
   "cell_type": "code",
   "execution_count": 74,
   "id": "499b94d7-d568-4ae4-aa2c-5f3b93b4762e",
   "metadata": {},
   "outputs": [
    {
     "data": {
      "text/plain": [
       "ModeResult(mode=932, count=6)"
      ]
     },
     "execution_count": 74,
     "metadata": {},
     "output_type": "execute_result"
    }
   ],
   "source": [
    "from scipy.stats import mode\n",
    "result = mode(inputs)\n",
    "result"
   ]
  },
  {
   "cell_type": "code",
   "execution_count": 76,
   "id": "2e7db75c-861c-4ad5-a9b7-242c8c180b2b",
   "metadata": {},
   "outputs": [
    {
     "data": {
      "text/plain": [
       "array([32, 52, 40, 21, 65, 79, 87, 25, 99, 25, 97, 71, 96, 77, 38, 33, 98,\n",
       "       64, 91, 42, 49, 69, 40, 70, 72, 60, 23, 93, 71, 26, 32, 66, 73, 48,\n",
       "       32, 44, 25, 64, 49, 39, 72, 61, 89, 80, 27, 18, 95, 87, 82, 39, 37,\n",
       "       33, 85, 50, 80, 94, 55, 54, 99, 56, 67, 69, 30, 32, 29, 40, 63, 48,\n",
       "       28, 60, 34, 65, 91, 46, 48, 31, 82, 73, 43, 70, 35, 25, 83, 97, 32,\n",
       "       96, 95, 34, 33, 77, 74, 50, 84, 62, 72, 60, 49, 18, 19, 33, 50, 19,\n",
       "       33, 21, 55, 49, 52, 72, 40, 56, 33, 61, 43, 30, 84, 52, 94, 48, 81,\n",
       "       56, 47, 68, 58, 28, 87, 42, 77, 98, 43, 96, 67, 94, 76, 53, 81, 30,\n",
       "       78, 56, 53, 66, 73, 96, 36, 50, 89, 89, 50, 53, 40, 58, 56, 94, 92,\n",
       "       19, 61, 37, 84, 46, 74, 85, 59, 51, 48, 96, 77, 30, 36, 29, 92, 29,\n",
       "       75, 77, 36, 43, 34, 54, 33, 27, 72, 63, 63, 89, 79, 28, 88, 92, 35,\n",
       "       98, 89, 90, 88, 45, 26, 75, 28, 29, 73, 74, 46, 49, 47, 39, 68, 31,\n",
       "       30, 76, 25, 86, 42, 52, 93, 86, 79, 86, 20, 55, 40, 63, 38, 24, 36,\n",
       "       49, 49, 45, 62, 79, 24, 41, 59, 20, 89, 83, 37, 28, 61, 80, 51, 22,\n",
       "       74, 85, 97, 39, 67, 78, 99, 65, 77, 97, 20, 43, 45, 30, 28, 69, 34,\n",
       "       71, 82, 47, 46, 87, 40, 98, 20, 61, 38, 89, 87, 56, 70, 95, 91, 34,\n",
       "       51, 42, 91, 99, 19, 50, 25, 54, 79, 18, 77, 78, 92, 64, 30, 43, 80,\n",
       "       64, 21, 58, 58, 96, 39, 94, 51, 35, 73, 70, 67, 90, 64, 91, 35, 89,\n",
       "       89, 25, 71, 86, 28, 31, 90, 31, 41, 24, 65, 89, 28, 56, 98, 39, 56,\n",
       "       77, 74, 70, 21, 48, 78, 34, 50, 36, 63, 95, 18, 36, 27, 61, 86, 73,\n",
       "       21, 47, 79, 69, 22, 91, 22, 42, 83, 32, 44, 38, 48, 90, 92, 77, 70,\n",
       "       25, 36, 29, 57, 92, 56, 85, 29, 70, 88, 65, 96, 87, 40, 87, 27, 69,\n",
       "       27, 79, 39, 42, 44, 53, 99, 37, 74, 36, 78, 75, 57, 52, 58, 57, 20,\n",
       "       26, 35, 68, 45, 87, 42, 66, 36, 55, 49, 45, 52, 39, 30, 42, 59, 43,\n",
       "       26, 33, 72, 32, 84, 58, 55, 86, 96, 81, 45, 69, 21, 95, 63, 31, 64,\n",
       "       36, 76, 56, 58, 31, 56, 55, 92, 27, 21, 99, 27, 92, 52, 21, 84, 36,\n",
       "       64, 85, 68, 30, 58, 43, 35, 97, 78, 72, 62, 49, 28, 36, 27, 95, 63,\n",
       "       64, 66, 35, 60, 32, 78, 42, 65, 18, 56, 73, 28, 77, 85, 99, 23, 85,\n",
       "       47, 29, 89, 55, 55, 65, 79, 68, 74, 53, 38, 53, 84, 70, 25, 48, 59,\n",
       "       31, 90, 62, 48, 30, 24, 94, 67, 47, 55, 31, 59, 79, 50, 90, 62, 89,\n",
       "       19, 51, 51, 91, 55, 94, 63, 92, 21, 46, 82, 42, 71, 24, 32, 59, 42,\n",
       "       79, 47, 62, 87, 64, 97, 65, 38, 28, 47, 89, 48, 88, 41, 71, 96, 66,\n",
       "       30, 44, 73, 63, 60, 20, 82, 43, 18, 30, 37, 96, 83, 36, 70, 61, 29,\n",
       "       79, 30, 48, 49, 26, 97, 26, 22, 82, 81, 97, 96, 68, 66, 99, 62, 72,\n",
       "       77, 32, 68, 26, 41, 18, 45, 46, 29, 43, 77, 48, 92, 63, 27, 87, 53,\n",
       "       55, 36, 57, 71, 85, 30, 69, 41, 72, 75, 21, 25, 47, 34, 18, 83, 86,\n",
       "       35, 30, 44, 70, 71, 99, 84, 80, 21, 84, 29, 18, 30, 33, 65, 48, 36,\n",
       "       82, 61, 74, 26, 58, 43, 82, 85, 93, 53, 55, 27, 74, 37, 89, 40, 29,\n",
       "       19, 27, 63, 19, 57, 89, 80, 33, 21, 89, 28, 22, 76, 84, 19, 48, 29,\n",
       "       30, 98, 75, 26, 41, 59, 36, 38, 84, 99, 88, 50, 96, 58, 72, 42, 22,\n",
       "       94, 46, 22, 21, 59, 44, 75, 49, 39, 95, 19, 70, 85, 31, 58, 68, 85,\n",
       "       71, 43, 20, 26, 20, 37, 86, 89, 93, 29, 81, 44, 91, 58, 38, 58, 38,\n",
       "       49, 72, 75, 26, 43, 41, 49, 79, 24, 43, 48, 39, 64, 25, 77, 91, 65,\n",
       "       21, 43, 99, 63, 21, 70, 51, 67, 77, 42, 48, 26, 76, 76, 97, 58, 64,\n",
       "       35, 30, 58, 52, 83, 59, 66, 37, 70, 83, 68, 32, 23, 58, 32, 51, 60,\n",
       "       54, 67, 61, 47, 43, 69, 27, 48, 41, 45, 72, 87, 73, 27, 21, 19, 22,\n",
       "       84, 71, 96, 27, 26, 35, 23, 88, 65, 41, 76, 57, 92, 65, 81, 89, 78,\n",
       "       52, 50, 89, 18, 21, 49, 89, 73, 77, 45, 66, 77, 79, 51, 84, 95, 84,\n",
       "       31, 61, 25, 62, 24, 92, 48, 67, 92, 57, 38, 95, 69, 46, 56, 78, 81,\n",
       "       46, 37, 42, 94, 85, 39, 25, 65, 82, 91, 59, 30, 49, 80, 24, 85, 84,\n",
       "       28, 54, 87, 29, 53, 62, 87, 40, 41, 45, 35, 22, 19, 49, 91, 56, 57,\n",
       "       49, 44, 48, 78, 76, 69, 73, 33, 71, 19, 99, 45, 24, 66, 98, 83, 73,\n",
       "       61, 61, 71, 51, 20, 93, 62, 31, 40, 29, 65, 35, 91, 52, 70, 21, 66,\n",
       "       23, 92, 72, 35, 68, 63, 81, 96, 71, 40, 37, 98, 58, 43, 20, 22, 59,\n",
       "       90, 61, 40, 34, 86, 18, 92, 91, 99, 90, 55, 36, 53, 43, 96, 39, 78,\n",
       "       24, 96, 81, 67, 40, 33, 63, 64, 37, 54, 74, 74, 20, 59, 97, 85, 53,\n",
       "       79, 45, 80, 70, 55, 65, 65, 50, 48, 64, 41, 97, 23, 38, 18, 50, 73,\n",
       "       62, 77, 65, 18, 38, 51, 98, 30, 50, 52, 90, 54, 58, 38, 23, 56, 28,\n",
       "       90, 70, 57, 31, 82, 82, 22, 75, 93, 94, 73, 57, 24, 60])"
      ]
     },
     "execution_count": 76,
     "metadata": {},
     "output_type": "execute_result"
    }
   ],
   "source": [
    "idades = np.random.randint(18,high=100, size=1000)\n",
    "idades"
   ]
  },
  {
   "cell_type": "code",
   "execution_count": 78,
   "id": "1130af6d-ce9a-4667-8129-1f91659a19f5",
   "metadata": {},
   "outputs": [
    {
     "data": {
      "text/plain": [
       "ModeResult(mode=30, count=20)"
      ]
     },
     "execution_count": 78,
     "metadata": {},
     "output_type": "execute_result"
    }
   ],
   "source": [
    "idade = mode(idades)\n",
    "idade"
   ]
  },
  {
   "cell_type": "code",
   "execution_count": 80,
   "id": "6ca818dd-6222-4dad-a402-902625612bd3",
   "metadata": {},
   "outputs": [
    {
     "data": {
      "text/plain": [
       "57.0"
      ]
     },
     "execution_count": 80,
     "metadata": {},
     "output_type": "execute_result"
    }
   ],
   "source": [
    "np.median(idades)"
   ]
  },
  {
   "cell_type": "code",
   "execution_count": 82,
   "id": "72262feb-ec42-44a5-8166-be6434b6e45f",
   "metadata": {},
   "outputs": [
    {
     "data": {
      "text/plain": [
       "57.418"
      ]
     },
     "execution_count": 82,
     "metadata": {},
     "output_type": "execute_result"
    }
   ],
   "source": [
    "np.mean(idades)"
   ]
  },
  {
   "cell_type": "code",
   "execution_count": 84,
   "id": "d8bf5aa9-f747-4df3-91f5-6b47c97e51de",
   "metadata": {},
   "outputs": [
    {
     "data": {
      "text/plain": [
       "array([60, 37, 50, 93, 51, 80, 69, 40, 63, 94])"
      ]
     },
     "execution_count": 84,
     "metadata": {},
     "output_type": "execute_result"
    }
   ],
   "source": [
    "idades = np.random.randint(18,high=100,size=10)\n",
    "idades\n"
   ]
  },
  {
   "cell_type": "code",
   "execution_count": 86,
   "id": "e51a5427-a6fe-4c25-b782-8c21466ba058",
   "metadata": {},
   "outputs": [
    {
     "data": {
      "text/plain": [
       "63.7"
      ]
     },
     "execution_count": 86,
     "metadata": {},
     "output_type": "execute_result"
    }
   ],
   "source": [
    "np.mean(idades)"
   ]
  },
  {
   "cell_type": "code",
   "execution_count": 88,
   "id": "563eaa94-4d40-41f5-96d5-e061ba73676d",
   "metadata": {},
   "outputs": [
    {
     "data": {
      "text/plain": [
       "139.68106980155068"
      ]
     },
     "execution_count": 88,
     "metadata": {},
     "output_type": "execute_result"
    }
   ],
   "source": [
    "entrada.std()"
   ]
  },
  {
   "cell_type": "code",
   "execution_count": 90,
   "id": "9bb0eb7b-6718-4de6-9303-09a0dce0b20c",
   "metadata": {},
   "outputs": [
    {
     "data": {
      "text/plain": [
       "19510.801260905675"
      ]
     },
     "execution_count": 90,
     "metadata": {},
     "output_type": "execute_result"
    }
   ],
   "source": [
    "entrada.var()"
   ]
  },
  {
   "cell_type": "code",
   "execution_count": null,
   "id": "f5027196-9c9b-44ac-a40d-6320657d01ea",
   "metadata": {},
   "outputs": [],
   "source": []
  }
 ],
 "metadata": {
  "kernelspec": {
   "display_name": "Python [conda env:base] *",
   "language": "python",
   "name": "conda-base-py"
  },
  "language_info": {
   "codemirror_mode": {
    "name": "ipython",
    "version": 3
   },
   "file_extension": ".py",
   "mimetype": "text/x-python",
   "name": "python",
   "nbconvert_exporter": "python",
   "pygments_lexer": "ipython3",
   "version": "3.12.7"
  }
 },
 "nbformat": 4,
 "nbformat_minor": 5
}
