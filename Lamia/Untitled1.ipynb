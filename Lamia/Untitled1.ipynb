{
 "cells": [
  {
   "cell_type": "markdown",
   "id": "80794873-98a3-4d1b-8dd7-7a4c1a7c0bbc",
   "metadata": {},
   "source": [
    "## Olá, Aqui vamos demonstrar como fazer as tarefas em numpy\n",
    "### Primeiro,\n",
    "#### voce deve importar as bibliotecas desejadas:\n"
   ]
  },
  {
   "cell_type": "code",
   "execution_count": 8,
   "id": "e1827918-709e-45a2-b606-36321ace61a6",
   "metadata": {},
   "outputs": [],
   "source": [
    "import numpy as np\n",
    "import pandas as pd\n",
    "import matplotlib.pylab as plt\n",
    "import matplotlib\n",
    "from scipy.stats import norm"
   ]
  },
  {
   "cell_type": "markdown",
   "id": "d0d64a9b-d3cc-4c22-8bc3-69b235385c3c",
   "metadata": {},
   "source": [
    "### Segundo,\n",
    "#### elabore o codigo referido:"
   ]
  },
  {
   "cell_type": "code",
   "execution_count": 19,
   "id": "dd191d4d-2a97-4a07-8d7e-9095c3201ce8",
   "metadata": {},
   "outputs": [
    {
     "data": {
      "image/png": "[encoded data removed]",
      "text/plain": [
       "<Figure size 640x480 with 1 Axes>"
      ]
     },
     "metadata": {},
     "output_type": "display_data"
    }
   ],
   "source": [
    "ale = np.random.randint(18, high=100,size=1000)   \n",
    "plt.hist(ale,100)\n",
    "plt.show()"
   ]
  },
  {
   "cell_type": "code",
   "execution_count": 28,
   "id": "0b840177-d659-43e2-860a-a8bcd6441c09",
   "metadata": {},
   "outputs": [
    {
     "data": {
      "text/plain": [
       "59.177"
      ]
     },
     "execution_count": 28,
     "metadata": {},
     "output_type": "execute_result"
    }
   ],
   "source": [
    "np.mean(ale)"
   ]
  },
  {
   "cell_type": "code",
   "execution_count": null,
   "id": "ff586cf3-407e-4ca4-a97d-f26c344eff44",
   "metadata": {},
   "outputs": [],
   "source": []
  }
 ],
 "metadata": {
  "kernelspec": {
   "display_name": "Python [conda env:base] *",
   "language": "python",
   "name": "conda-base-py"
  },
  "language_info": {
   "codemirror_mode": {
    "name": "ipython",
    "version": 3
   },
   "file_extension": ".py",
   "mimetype": "text/x-python",
   "name": "python",
   "nbconvert_exporter": "python",
   "pygments_lexer": "ipython3",
   "version": "3.12.7"
  }
 },
 "nbformat": 4,
 "nbformat_minor": 5
}
