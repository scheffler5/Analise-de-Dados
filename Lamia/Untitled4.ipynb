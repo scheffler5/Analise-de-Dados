{
 "cells": [
  {
   "cell_type": "code",
   "execution_count": 19,
   "id": "ae102e8e-6eb4-483d-8b00-c3f0b54129ff",
   "metadata": {},
   "outputs": [
    {
     "name": "stdout",
     "output_type": "stream",
     "text": [
      "\n",
      "+---------+\n",
      "|\u001b[35mR\u001b[0m: | : :G|\n",
      "| : | : : |\n",
      "| : :\u001b[43m \u001b[0m: : |\n",
      "| | : | : |\n",
      "|Y| : |\u001b[34;1mB\u001b[0m: |\n",
      "+---------+\n",
      "\n",
      "\n"
     ]
    }
   ],
   "source": [
    "import gym  \n",
    "import random  \n",
    "\n",
    "random.seed(1234) \n",
    "\n",
    "streets = gym.make(\"Taxi-v3\", render_mode = \"ansi\").env  \n",
    "streets.reset()  \n",
    "print(\"\\n\"+streets.render())  "
   ]
  },
  {
   "cell_type": "code",
   "execution_count": 21,
   "id": "aa3851b5-5a3d-451b-b5b6-931d08f14e83",
   "metadata": {},
   "outputs": [
    {
     "name": "stdout",
     "output_type": "stream",
     "text": [
      "\n",
      "+---------+\n",
      "|\u001b[35mR\u001b[0m: | : :G|\n",
      "| : | : : |\n",
      "| : :\u001b[43m \u001b[0m: : |\n",
      "| | : | : |\n",
      "|Y| : |\u001b[34;1mB\u001b[0m: |\n",
      "+---------+\n",
      "\n",
      "\n"
     ]
    }
   ],
   "source": [
    "initial_state = streets.encode(2, 3, 2, 0)\n",
    "streets.s = initial_state\n",
    "print(\"\\n\"+streets.render())  "
   ]
  },
  {
   "cell_type": "code",
   "execution_count": 15,
   "id": "6e48c7ac-0db2-4188-88a2-ca325a5a9c50",
   "metadata": {},
   "outputs": [
    {
     "name": "stdout",
     "output_type": "stream",
     "text": [
      "Progresso: 0/500\n",
      "Progresso: 100/500\n",
      "Progresso: 200/500\n",
      "Progresso: 300/500\n",
      "Progresso: 400/500\n",
      "Treinamento concluído\n"
     ]
    }
   ],
   "source": [
    "import numpy as np\n",
    "import random\n",
    "\n",
    "\n",
    "q_table = np.zeros([streets.observation_space.n, streets.action_space.n])\n",
    "\n",
    "learning_rate = 0.1\n",
    "discount_factor = 0.6\n",
    "exploration = 0.1\n",
    "epochs = 500\n",
    "\n",
    "for taxi_run in range(epochs):\n",
    "    state = streets.reset()\n",
    "    done = False\n",
    "    \n",
    "    while not done:\n",
    "        random_value = random.uniform(0, 1)\n",
    "        if random_value < exploration:\n",
    "            action = streets.action_space.sample()\n",
    "        else:\n",
    "            state_index = state[0] if isinstance(state, tuple) else state\n",
    "            \n",
    "            if isinstance(state_index, int) and 0 <= state_index < q_table.shape[0]:\n",
    "                action = np.argmax(q_table[state_index])\n",
    "            else:\n",
    "                raise ValueError(f\"Estado inválido: {state}\")\n",
    "\n",
    "        next_state, reward, done, truncated, info = streets.step(action)\n",
    "        \n",
    "        next_state_index = next_state[0] if isinstance(next_state, tuple) else next_state\n",
    "        \n",
    "        prev_q = q_table[state_index, action]\n",
    "        next_max_q = np.max(q_table[next_state_index])\n",
    "        new_q = (1 - learning_rate) * prev_q + learning_rate * (reward + discount_factor * next_max_q)\n",
    "        q_table[state_index, action] = new_q\n",
    "\n",
    "        state = next_state\n",
    "    \n",
    "    #adicionei uma contagem de progresso, para ter uma melhor noção.\n",
    "    if taxi_run % 100 == 0:\n",
    "        print(f\"Progresso: {taxi_run}/{epochs}\")\n",
    "\n",
    "print(\"Treinamento concluído\")"
   ]
  },
  {
   "cell_type": "code",
   "execution_count": 17,
   "id": "a1fae06b-5e85-4e88-9cd1-8e6b3d44d183",
   "metadata": {},
   "outputs": [
    {
     "data": {
      "text/plain": [
       "array([ -2.49999994,  -2.49999994,  -2.49999987,  -2.49999892,\n",
       "       -11.01504839, -11.27997451])"
      ]
     },
     "execution_count": 17,
     "metadata": {},
     "output_type": "execute_result"
    }
   ],
   "source": [
    "q_table[initial_state]"
   ]
  },
  {
   "cell_type": "code",
   "execution_count": null,
   "id": "820c30a8-c1f1-471a-ae5b-0463b4ecade1",
   "metadata": {},
   "outputs": [],
   "source": []
  }
 ],
 "metadata": {
  "kernelspec": {
   "display_name": "Python [conda env:base] *",
   "language": "python",
   "name": "conda-base-py"
  },
  "language_info": {
   "codemirror_mode": {
    "name": "ipython",
    "version": 3
   },
   "file_extension": ".py",
   "mimetype": "text/x-python",
   "name": "python",
   "nbconvert_exporter": "python",
   "pygments_lexer": "ipython3",
   "version": "3.12.7"
  }
 },
 "nbformat": 4,
 "nbformat_minor": 5
}
